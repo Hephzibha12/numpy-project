{
  "nbformat": 4,
  "nbformat_minor": 0,
  "metadata": {
    "colab": {
      "provenance": []
    },
    "kernelspec": {
      "name": "python3",
      "display_name": "Python 3"
    },
    "language_info": {
      "name": "python"
    }
  },
  "cells": [
    {
      "cell_type": "markdown",
      "source": [
        "**DATA CREATION**"
      ],
      "metadata": {
        "id": "OI99YRdz3_7e"
      }
    },
    {
      "cell_type": "code",
      "source": [
        "import numpy as np\n",
        "student=np.array(['Akhil','Sia','Lia'])\n",
        "subjects=np.array(['Maths','English','science','Social'])\n",
        "marks=np.array([[89,56,87,67],\n",
        "               [78,56,46,90],\n",
        "               [98,89,90,78]])\n",
        "print(student)\n",
        "print(subjects)\n",
        "print(marks)"
      ],
      "metadata": {
        "colab": {
          "base_uri": "https://localhost:8080/"
        },
        "id": "HBwOQHpB4KPb",
        "outputId": "022d3f32-4c14-4333-d38e-f674d5f370b8"
      },
      "execution_count": 1,
      "outputs": [
        {
          "output_type": "stream",
          "name": "stdout",
          "text": [
            "['Akhil' 'Sia' 'Lia']\n",
            "['Maths' 'English' 'science' 'Social']\n",
            "[[89 56 87 67]\n",
            " [78 56 46 90]\n",
            " [98 89 90 78]]\n"
          ]
        }
      ]
    },
    {
      "cell_type": "markdown",
      "source": [
        "**DATA EXPLORATION**"
      ],
      "metadata": {
        "id": "B1P1oOh8s3Px"
      }
    },
    {
      "cell_type": "markdown",
      "source": [
        "**Dimension**"
      ],
      "metadata": {
        "id": "haZuLV8MtpZY"
      }
    },
    {
      "cell_type": "code",
      "source": [
        "print(student.ndim)\n",
        "print(subjects.ndim)\n",
        "print(marks.ndim)"
      ],
      "metadata": {
        "colab": {
          "base_uri": "https://localhost:8080/"
        },
        "id": "OBMQNTONs_Gt",
        "outputId": "6b5a110c-a51f-4429-a462-de0fd1555cee"
      },
      "execution_count": 2,
      "outputs": [
        {
          "output_type": "stream",
          "name": "stdout",
          "text": [
            "1\n",
            "1\n",
            "2\n"
          ]
        }
      ]
    },
    {
      "cell_type": "markdown",
      "source": [
        "**Size**"
      ],
      "metadata": {
        "id": "UgB4QG3ctvKl"
      }
    },
    {
      "cell_type": "code",
      "source": [
        "print(student.size)\n",
        "print(subjects.size)\n",
        "print(marks.size)"
      ],
      "metadata": {
        "colab": {
          "base_uri": "https://localhost:8080/"
        },
        "id": "CtBU6svYtzZ7",
        "outputId": "301d057d-bc90-414e-c3f6-a60036ae5504"
      },
      "execution_count": 3,
      "outputs": [
        {
          "output_type": "stream",
          "name": "stdout",
          "text": [
            "3\n",
            "4\n",
            "12\n"
          ]
        }
      ]
    },
    {
      "cell_type": "markdown",
      "source": [
        "**Structure**"
      ],
      "metadata": {
        "id": "7qvEkoY9uIqJ"
      }
    },
    {
      "cell_type": "code",
      "source": [
        "print(student.shape)\n",
        "print(subjects.shape)\n",
        "print(marks.shape)"
      ],
      "metadata": {
        "colab": {
          "base_uri": "https://localhost:8080/"
        },
        "id": "nDskalWsuLzc",
        "outputId": "a2d2ddec-723f-43d4-c340-cb0ae3bc2a59"
      },
      "execution_count": 4,
      "outputs": [
        {
          "output_type": "stream",
          "name": "stdout",
          "text": [
            "(3,)\n",
            "(4,)\n",
            "(3, 4)\n"
          ]
        }
      ]
    },
    {
      "cell_type": "markdown",
      "source": [
        "**DATA TRANSFORMATION**"
      ],
      "metadata": {
        "id": "ZXzZH3bFuj7P"
      }
    },
    {
      "cell_type": "markdown",
      "source": [
        "**Reshape**"
      ],
      "metadata": {
        "id": "uswTmXnaxicU"
      }
    },
    {
      "cell_type": "code",
      "source": [
        "reshaped = marks.reshape(4,3)\n",
        "print(reshaped)"
      ],
      "metadata": {
        "colab": {
          "base_uri": "https://localhost:8080/"
        },
        "id": "eQvhhXj8xRrD",
        "outputId": "b3377f7b-a436-4175-a60c-ace6e8634aa6"
      },
      "execution_count": 5,
      "outputs": [
        {
          "output_type": "stream",
          "name": "stdout",
          "text": [
            "[[89 56 87]\n",
            " [67 78 56]\n",
            " [46 90 98]\n",
            " [89 90 78]]\n"
          ]
        }
      ]
    },
    {
      "cell_type": "markdown",
      "source": [
        "**Recognisation**"
      ],
      "metadata": {
        "id": "81Nc8M4ixuTE"
      }
    },
    {
      "cell_type": "code",
      "source": [
        "for i, stud in enumerate(student):\n",
        "    print(f\"\\nStudent: {stud}\")\n",
        "    for j, subj in enumerate(subjects):\n",
        "        print(f\"{subj}: {marks[i, j]}\")\n"
      ],
      "metadata": {
        "colab": {
          "base_uri": "https://localhost:8080/"
        },
        "id": "W0PuOvIqx39P",
        "outputId": "d32f755b-7ad2-4392-8af2-25c633180f53"
      },
      "execution_count": 6,
      "outputs": [
        {
          "output_type": "stream",
          "name": "stdout",
          "text": [
            "\n",
            "Student: Akhil\n",
            "Maths: 89\n",
            "English: 56\n",
            "science: 87\n",
            "Social: 67\n",
            "\n",
            "Student: Sia\n",
            "Maths: 78\n",
            "English: 56\n",
            "science: 46\n",
            "Social: 90\n",
            "\n",
            "Student: Lia\n",
            "Maths: 98\n",
            "English: 89\n",
            "science: 90\n",
            "Social: 78\n"
          ]
        }
      ]
    },
    {
      "cell_type": "markdown",
      "source": [
        "**DATA COMBINATION**"
      ],
      "metadata": {
        "id": "O-cuJiSAxsmO"
      }
    },
    {
      "cell_type": "code",
      "source": [
        "print(f\"{'Name':^10}\", end=\"\")\n",
        "for subj in subjects:\n",
        "    print(f\"{subj:^8}\", end=\"\")\n",
        "print()\n",
        "\n",
        "# Print student marks\n",
        "for i, stud in enumerate(student):\n",
        "    print(f\"{stud:^10}\", end=\"\")\n",
        "    for j, subj in enumerate(subjects):\n",
        "        print(f\"{marks[i, j]:^8}\", end=\"\")\n",
        "    print()\n"
      ],
      "metadata": {
        "colab": {
          "base_uri": "https://localhost:8080/"
        },
        "id": "E_SnzhHmbhTv",
        "outputId": "fdb74388-1a3e-420f-e1ef-e32ae17d34b0"
      },
      "execution_count": 7,
      "outputs": [
        {
          "output_type": "stream",
          "name": "stdout",
          "text": [
            "   Name    Maths  English science  Social \n",
            "  Akhil      89      56      87      67   \n",
            "   Sia       78      56      46      90   \n",
            "   Lia       98      89      90      78   \n"
          ]
        }
      ]
    },
    {
      "cell_type": "markdown",
      "source": [
        "Adding new students and Marks"
      ],
      "metadata": {
        "id": "y8Gx0mES3wY3"
      }
    },
    {
      "cell_type": "code",
      "source": [
        "print(student)\n",
        "\n",
        "new_students = np.array(['Rahul', 'Priya'])\n",
        "new_marks = np.array([[90, 85, 95, 80],\n",
        "                      [85, 90, 80, 95]])\n",
        "\n",
        "students = np.append(student, new_students)\n",
        "marks = np.vstack((marks, new_marks))\n",
        "\n",
        "\n",
        "\n"
      ],
      "metadata": {
        "colab": {
          "base_uri": "https://localhost:8080/"
        },
        "id": "GNqz4TO436aI",
        "outputId": "8734f606-29c1-4ff6-fc91-97a35750f45a"
      },
      "execution_count": 8,
      "outputs": [
        {
          "output_type": "stream",
          "name": "stdout",
          "text": [
            "['Akhil' 'Sia' 'Lia']\n"
          ]
        }
      ]
    },
    {
      "cell_type": "code",
      "source": [
        "\n",
        "print(f\"{'Name':^10}\", end=\"\")\n",
        "for subj in subjects:\n",
        "    print(f\"{subj:^8}\", end=\"\")\n",
        "print()\n",
        "\n",
        "for i, stud in enumerate(students):\n",
        "    print(f\"{stud:^10}\", end=\"\")\n",
        "    for mark in marks[i]:\n",
        "        print(f\"{mark:^8}\", end=\"\")\n",
        "    print()"
      ],
      "metadata": {
        "colab": {
          "base_uri": "https://localhost:8080/"
        },
        "id": "8Htas-po-gWV",
        "outputId": "4cb4ddb3-dae7-45bd-8cc4-dddeccc28723"
      },
      "execution_count": 9,
      "outputs": [
        {
          "output_type": "stream",
          "name": "stdout",
          "text": [
            "   Name    Maths  English science  Social \n",
            "  Akhil      89      56      87      67   \n",
            "   Sia       78      56      46      90   \n",
            "   Lia       98      89      90      78   \n",
            "  Rahul      90      85      95      80   \n",
            "  Priya      85      90      80      95   \n"
          ]
        }
      ]
    },
    {
      "cell_type": "markdown",
      "source": [
        "**DATA MODIFICATION**"
      ],
      "metadata": {
        "id": "lgnn8GwD_R5p"
      }
    },
    {
      "cell_type": "code",
      "source": [
        "marks[0] = [90, 80, 85, 95]  # Update marks for Akhil\n",
        "print(\"\\nUpdated marks for Akhil:\")\n",
        "print(f\"{'Name':^10}\", end=\"\")\n",
        "for subj in subjects:\n",
        "    print(f\"{subj:^8}\", end=\"\")\n",
        "print()\n",
        "\n",
        "for i, stud in enumerate(students):\n",
        "    print(f\"{stud:^10}\", end=\"\")\n",
        "    for mark in marks[i]:\n",
        "        print(f\"{mark:^8}\", end=\"\")\n",
        "    print()"
      ],
      "metadata": {
        "colab": {
          "base_uri": "https://localhost:8080/"
        },
        "id": "-TsL1P8n_tSP",
        "outputId": "8e62273e-4a42-4351-cbb0-a3aa78098b3f"
      },
      "execution_count": 10,
      "outputs": [
        {
          "output_type": "stream",
          "name": "stdout",
          "text": [
            "\n",
            "Updated marks for Akhil:\n",
            "   Name    Maths  English science  Social \n",
            "  Akhil      90      80      85      95   \n",
            "   Sia       78      56      46      90   \n",
            "   Lia       98      89      90      78   \n",
            "  Rahul      90      85      95      80   \n",
            "  Priya      85      90      80      95   \n"
          ]
        }
      ]
    },
    {
      "cell_type": "code",
      "source": [
        "new_subject = np.array([80, 75, 90, 85, 95])  # New subject marks\n",
        "marks = np.column_stack((marks, new_subject))  # Add new subject marks\n",
        "subjects = np.append(subjects, 'History')  # Add new subject name\n",
        "\n",
        "print(\"\\nUpdated data with new subject:\")\n",
        "print(f\"{'Name':^10}\", end=\"\")\n",
        "for subj in subjects:\n",
        "    print(f\"{subj:^8}\", end=\"\")\n",
        "print()\n",
        "\n",
        "for i, stud in enumerate(students):\n",
        "    print(f\"{stud:^10}\", end=\"\")\n",
        "    for mark in marks[i]:\n",
        "        print(f\"{mark:^8}\", end=\"\")\n",
        "    print()"
      ],
      "metadata": {
        "colab": {
          "base_uri": "https://localhost:8080/"
        },
        "id": "mifNtAcY_XkR",
        "outputId": "a6a19751-8eff-46dc-a47f-cb1e981b8137"
      },
      "execution_count": 11,
      "outputs": [
        {
          "output_type": "stream",
          "name": "stdout",
          "text": [
            "\n",
            "Updated data with new subject:\n",
            "   Name    Maths  English science  Social History \n",
            "  Akhil      90      80      85      95      80   \n",
            "   Sia       78      56      46      90      75   \n",
            "   Lia       98      89      90      78      90   \n",
            "  Rahul      90      85      95      80      85   \n",
            "  Priya      85      90      80      95      95   \n"
          ]
        }
      ]
    },
    {
      "cell_type": "code",
      "source": [
        "students = np.delete(students, 0)  # Delete first student (Akhil)\n",
        "marks = np.delete(marks, 0, axis=0)  # Delete marks for first student\n",
        "\n",
        "print(\"\\nUpdated data after deleting Akhil:\")\n",
        "print(f\"{'Name':^10}\", end=\"\")\n",
        "for subj in subjects:\n",
        "    print(f\"{subj:^8}\", end=\"\")\n",
        "print()\n",
        "\n",
        "for i, stud in enumerate(students):\n",
        "    print(f\"{stud:^10}\", end=\"\")\n",
        "    for mark in marks[i]:\n",
        "        print(f\"{mark:^8}\", end=\"\")\n",
        "    print()\n"
      ],
      "metadata": {
        "colab": {
          "base_uri": "https://localhost:8080/"
        },
        "id": "7JAHqDMXAHIO",
        "outputId": "d56a121b-aad6-4696-9525-8a9e87bb61a5"
      },
      "execution_count": 12,
      "outputs": [
        {
          "output_type": "stream",
          "name": "stdout",
          "text": [
            "\n",
            "Updated data after deleting Akhil:\n",
            "   Name    Maths  English science  Social History \n",
            "   Sia       78      56      46      90      75   \n",
            "   Lia       98      89      90      78      90   \n",
            "  Rahul      90      85      95      80      85   \n",
            "  Priya      85      90      80      95      95   \n"
          ]
        }
      ]
    },
    {
      "cell_type": "markdown",
      "source": [
        "**DATA TYPE HANDLING**"
      ],
      "metadata": {
        "id": "7mer-QZRAQZ6"
      }
    },
    {
      "cell_type": "code",
      "source": [
        "result_int = marks / 2\n",
        "result_float = marks / 2\n",
        "\n",
        "print(\"Integer Division ( NumPy handles integer division differently than Python):\")\n",
        "print(result_int)\n",
        "print(\"Float Division:\")\n",
        "print(result_float)"
      ],
      "metadata": {
        "colab": {
          "base_uri": "https://localhost:8080/"
        },
        "id": "dlwlWuruBNtu",
        "outputId": "3aa32779-59df-4015-8c31-59489186d8b7"
      },
      "execution_count": 13,
      "outputs": [
        {
          "output_type": "stream",
          "name": "stdout",
          "text": [
            "Integer Division ( NumPy handles integer division differently than Python):\n",
            "[[39.  28.  23.  45.  37.5]\n",
            " [49.  44.5 45.  39.  45. ]\n",
            " [45.  42.5 47.5 40.  42.5]\n",
            " [42.5 45.  40.  47.5 47.5]]\n",
            "Float Division:\n",
            "[[39.  28.  23.  45.  37.5]\n",
            " [49.  44.5 45.  39.  45. ]\n",
            " [45.  42.5 47.5 40.  42.5]\n",
            " [42.5 45.  40.  47.5 47.5]]\n"
          ]
        }
      ]
    },
    {
      "cell_type": "code",
      "source": [
        "result_int_div_float = marks / 2.0\n",
        "print(\"\\nInteger array divided by a float:\")\n",
        "print(result_int_div_float)"
      ],
      "metadata": {
        "colab": {
          "base_uri": "https://localhost:8080/"
        },
        "id": "bQTO-CRACSTU",
        "outputId": "b6622202-4400-41f5-fb98-5c673bee787d"
      },
      "execution_count": 14,
      "outputs": [
        {
          "output_type": "stream",
          "name": "stdout",
          "text": [
            "\n",
            "Integer array divided by a float:\n",
            "[[39.  28.  23.  45.  37.5]\n",
            " [49.  44.5 45.  39.  45. ]\n",
            " [45.  42.5 47.5 40.  42.5]\n",
            " [42.5 45.  40.  47.5 47.5]]\n"
          ]
        }
      ]
    },
    {
      "cell_type": "markdown",
      "source": [
        "**COPY AND VIEW BEHAVIOR**"
      ],
      "metadata": {
        "id": "T1t6ObcNCdUX"
      }
    },
    {
      "cell_type": "code",
      "source": [
        "full_copy = marks.copy()\n",
        "\n",
        "view = marks.view()\n",
        "\n",
        "print(\"Original Array:\")\n",
        "print(marks)\n",
        "\n",
        "print(\"\\nFull Copy:\")\n",
        "print(full_copy)\n",
        "\n",
        "print(\"\\nView:\")\n",
        "print(view)\n",
        "\n",
        "# Modifying the original array\n",
        "marks[0, 0] = 100\n",
        "\n",
        "print(\"\\nAfter modifying the original array:\")\n",
        "\n",
        "print(\"Original Array:\")\n",
        "print(marks)\n",
        "\n",
        "print(\"\\nFull Copy:\")\n",
        "print(full_copy)\n",
        "\n",
        "print(\"\\nView:\")\n",
        "print(view)\n",
        "\n"
      ],
      "metadata": {
        "colab": {
          "base_uri": "https://localhost:8080/"
        },
        "id": "DblYOA6-CwKx",
        "outputId": "ecd5b24a-62b1-4830-f832-b5dfefd732fe"
      },
      "execution_count": 15,
      "outputs": [
        {
          "output_type": "stream",
          "name": "stdout",
          "text": [
            "Original Array:\n",
            "[[78 56 46 90 75]\n",
            " [98 89 90 78 90]\n",
            " [90 85 95 80 85]\n",
            " [85 90 80 95 95]]\n",
            "\n",
            "Full Copy:\n",
            "[[78 56 46 90 75]\n",
            " [98 89 90 78 90]\n",
            " [90 85 95 80 85]\n",
            " [85 90 80 95 95]]\n",
            "\n",
            "View:\n",
            "[[78 56 46 90 75]\n",
            " [98 89 90 78 90]\n",
            " [90 85 95 80 85]\n",
            " [85 90 80 95 95]]\n",
            "\n",
            "After modifying the original array:\n",
            "Original Array:\n",
            "[[100  56  46  90  75]\n",
            " [ 98  89  90  78  90]\n",
            " [ 90  85  95  80  85]\n",
            " [ 85  90  80  95  95]]\n",
            "\n",
            "Full Copy:\n",
            "[[78 56 46 90 75]\n",
            " [98 89 90 78 90]\n",
            " [90 85 95 80 85]\n",
            " [85 90 80 95 95]]\n",
            "\n",
            "View:\n",
            "[[100  56  46  90  75]\n",
            " [ 98  89  90  78  90]\n",
            " [ 90  85  95  80  85]\n",
            " [ 85  90  80  95  95]]\n"
          ]
        }
      ]
    }
  ]
}